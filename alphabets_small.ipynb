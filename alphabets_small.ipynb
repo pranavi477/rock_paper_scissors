{
 "cells": [
  {
   "cell_type": "code",
   "execution_count": 12,
   "id": "a87d9568",
   "metadata": {},
   "outputs": [
    {
     "name": "stdout",
     "output_type": "stream",
     "text": [
      " *** \n",
      "*   *\n",
      "*   *\n",
      " *** \n",
      "    *\n"
     ]
    }
   ],
   "source": [
    "a=1\n",
    "while a<=6:\n",
    "    if a==1:\n",
    "        print(\" *** \")\n",
    "    if a==2:\n",
    "        print(\"*   *\")\n",
    "    if a==3:\n",
    "        print(\"*   *\")\n",
    "    if a==4:\n",
    "        print(\" *** \")\n",
    "    if a==5:\n",
    "        print(\"    *\")\n",
    "    a=a+1\n",
    "        "
   ]
  },
  {
   "cell_type": "code",
   "execution_count": 19,
   "id": "28f4ce10",
   "metadata": {},
   "outputs": [
    {
     "name": "stdout",
     "output_type": "stream",
     "text": [
      "*   \n",
      "*   \n",
      "*   \n",
      "**** \n",
      "*   *\n",
      "*   *\n",
      "**** \n"
     ]
    }
   ],
   "source": [
    "a=1\n",
    "while a<=7:\n",
    "    if a==1:\n",
    "        print(\"*   \")\n",
    "    if a==2:\n",
    "        print(\"*   \")\n",
    "    if a==3:\n",
    "        print(\"*   \")\n",
    "    if a==4:\n",
    "        print(\"**** \")\n",
    "    if a==5:\n",
    "        print(\"*   *\")\n",
    "    if a==6:\n",
    "        print(\"*   *\")\n",
    "    if a==7:\n",
    "        print(\"**** \")       \n",
    "    a=a+1\n",
    "        "
   ]
  },
  {
   "cell_type": "code",
   "execution_count": 13,
   "id": "0c003cab",
   "metadata": {},
   "outputs": [
    {
     "name": "stdout",
     "output_type": "stream",
     "text": [
      " ****\n",
      "*\n",
      "*\n",
      "*\n",
      " ****\n"
     ]
    }
   ],
   "source": [
    "a=1\n",
    "while a<=5:\n",
    "    if a==1:\n",
    "        print(\" ****\")\n",
    "    if a==2:\n",
    "        print(\"*\")\n",
    "    if a==3:\n",
    "        print(\"*\")\n",
    "    if a==4:\n",
    "        print(\"*\")\n",
    "    if a==5:\n",
    "        print(\" ****\")\n",
    "    a=a+1"
   ]
  },
  {
   "cell_type": "code",
   "execution_count": 6,
   "id": "05ba2bc2",
   "metadata": {},
   "outputs": [
    {
     "name": "stdout",
     "output_type": "stream",
     "text": [
      "    *\n",
      "    *\n",
      "*****\n",
      "*   *\n",
      "*   *\n",
      "*****\n"
     ]
    }
   ],
   "source": [
    "a=1\n",
    "while a<=6:\n",
    "    if a==1:\n",
    "        print(\"    *\")\n",
    "    if a==2:\n",
    "        print(\"    *\")\n",
    "    if a==3:\n",
    "        print(\"*****\")\n",
    "    if a==4:\n",
    "        print(\"*   *\")\n",
    "    if a==5:\n",
    "        print(\"*   *\")\n",
    "    if a==6:\n",
    "        print(\"*****\")\n",
    "    a=a+1"
   ]
  },
  {
   "cell_type": "code",
   "execution_count": 10,
   "id": "4225264b",
   "metadata": {},
   "outputs": [
    {
     "name": "stdout",
     "output_type": "stream",
     "text": [
      "*****\n",
      "*   *\n",
      "*   *\n",
      "*****\n",
      "*    \n",
      "*    \n",
      "*****\n"
     ]
    }
   ],
   "source": [
    "a=1\n",
    "while a<=7:\n",
    "    if a==1:\n",
    "        print(\"*****\")\n",
    "    if a==2:\n",
    "        print(\"*   *\")\n",
    "    if a==3:\n",
    "        print(\"*   *\")\n",
    "    if a==4:\n",
    "        print(\"*****\")\n",
    "    if a==5:\n",
    "        print(\"*    \")\n",
    "    if a==6:\n",
    "        print(\"*    \")\n",
    "    if a==7:\n",
    "        print(\"*****\")\n",
    "    a=a+1"
   ]
  },
  {
   "cell_type": "code",
   "execution_count": 8,
   "id": "c261280a",
   "metadata": {},
   "outputs": [
    {
     "name": "stdout",
     "output_type": "stream",
     "text": [
      "   ****   \n",
      "   *   \n",
      "********\n",
      "   *     \n",
      "   *    \n"
     ]
    }
   ],
   "source": [
    "a=1\n",
    "while a<=5:\n",
    "    if a==1:\n",
    "        print(\"   ****   \")\n",
    "    if a==2:\n",
    "        print(\"   *   \")\n",
    "    if a==3:\n",
    "        print(\"********\")\n",
    "    if a==4: \n",
    "        print(\"   *     \")\n",
    "    if a==5:\n",
    "        print(\"   *    \")\n",
    "    a=a+1"
   ]
  },
  {
   "cell_type": "code",
   "execution_count": 38,
   "id": "c778751b",
   "metadata": {},
   "outputs": [
    {
     "name": "stdout",
     "output_type": "stream",
     "text": [
      "*****\n",
      "*   *\n",
      "*   *\n",
      "*****\n",
      "    *\n",
      "    *\n",
      "*****\n"
     ]
    }
   ],
   "source": [
    "a=1\n",
    "while a<=7:\n",
    "    if a==1:\n",
    "        print(\"*****\")\n",
    "    if a==2:\n",
    "        print(\"*   *\")\n",
    "    if a==3:\n",
    "        print(\"*   *\")\n",
    "    if a==4:\n",
    "        print(\"*****\")\n",
    "    if a==5:\n",
    "        print(\"    *\")\n",
    "    if a==6:\n",
    "        print(\"    *\")\n",
    "    if a==7:\n",
    "        print(\"*****\")\n",
    "    a=a+1"
   ]
  },
  {
   "cell_type": "code",
   "execution_count": 21,
   "id": "ff4bb8d4",
   "metadata": {},
   "outputs": [
    {
     "name": "stdout",
     "output_type": "stream",
     "text": [
      "*\n",
      "*\n",
      "*\n",
      "* * *\n",
      "*   * \n",
      "*   * \n"
     ]
    }
   ],
   "source": [
    "a=1\n",
    "while a<=6:\n",
    "    if a==1:\n",
    "        print(\"*\")\n",
    "    if a==2:\n",
    "        print(\"*\")\n",
    "    if a==3:\n",
    "        print(\"*\")\n",
    "    if a==4: \n",
    "        print(\"* * *\" )\n",
    "    if a==5:\n",
    "        print(\"*   * \")\n",
    "    if a==6:\n",
    "        print(\"*   * \")\n",
    "    a=a+1"
   ]
  },
  {
   "cell_type": "code",
   "execution_count": 15,
   "id": "91150fd0",
   "metadata": {},
   "outputs": [
    {
     "name": "stdout",
     "output_type": "stream",
     "text": [
      "  *  \n",
      "    \n",
      "  *  \n",
      "  *  \n",
      "  *   \n",
      "  *   \n"
     ]
    }
   ],
   "source": [
    "a=1\n",
    "while a<=6:\n",
    "    if a==1: \n",
    "        print(\"  *  \")\n",
    "    if a==2: \n",
    "        print(\"    \")\n",
    "    if a==3:\n",
    "        print(\"  *  \")\n",
    "    if a==4:\n",
    "        print(\"  *  \")\n",
    "    if a==5:\n",
    "        print(\"  *   \")\n",
    "    if a==6:\n",
    "        print(\"  *   \")\n",
    "    a=a+1"
   ]
  },
  {
   "cell_type": "code",
   "execution_count": 16,
   "id": "a7ff9566",
   "metadata": {},
   "outputs": [
    {
     "name": "stdout",
     "output_type": "stream",
     "text": [
      "   *  \n",
      "      \n",
      "   *  \n",
      "   *   \n",
      "   *   \n",
      "   *   \n",
      "*  *   \n",
      "****   \n"
     ]
    }
   ],
   "source": [
    "a=1\n",
    "while a<=8:\n",
    "    if a==1:\n",
    "        print(\"   *  \")\n",
    "    if a==2:\n",
    "        print(\"      \")\n",
    "    if a==3:\n",
    "        print(\"   *  \")\n",
    "    if a==4: \n",
    "        print(\"   *   \")\n",
    "    if a==5: \n",
    "        print(\"   *   \")\n",
    "    if a==6:\n",
    "        print(\"   *   \")\n",
    "    if a==7:\n",
    "        print(\"*  *   \")\n",
    "    if a==8:\n",
    "        print(\"****   \")\n",
    "    a=a+1"
   ]
  },
  {
   "cell_type": "code",
   "execution_count": 41,
   "id": "0de0fde1",
   "metadata": {},
   "outputs": [
    {
     "name": "stdout",
     "output_type": "stream",
     "text": [
      "*   *\n",
      "*  *\n",
      "**\n",
      "* *\n",
      "*   *\n"
     ]
    }
   ],
   "source": [
    "a=1\n",
    "while a<=5:\n",
    "    if a==1:\n",
    "        print(\"*   *\")\n",
    "    if a==2:\n",
    "        print(\"*  *\")\n",
    "    if a==3:\n",
    "        print(\"**\")\n",
    "    if a==4:\n",
    "        print(\"* *\")\n",
    "    if a==5:\n",
    "        print(\"*   *\")       \n",
    "    a=a+1"
   ]
  },
  {
   "cell_type": "code",
   "execution_count": 43,
   "id": "62a326f1",
   "metadata": {},
   "outputs": [
    {
     "name": "stdout",
     "output_type": "stream",
     "text": [
      "  *  \n",
      "  *  \n",
      "  *  \n",
      "  *  \n",
      "  *  \n"
     ]
    }
   ],
   "source": [
    "a=1\n",
    "while a<=5:\n",
    "    if a==1:\n",
    "        print(\"  *  \")\n",
    "    if a==2:\n",
    "        print(\"  *  \")\n",
    "    if a==3:\n",
    "        print(\"  *  \")\n",
    "    if a==4:\n",
    "        print(\"  *  \")\n",
    "    if a==5:\n",
    "        print(\"  *  \")       \n",
    "    a=a+1"
   ]
  },
  {
   "cell_type": "code",
   "execution_count": 32,
   "id": "4bcb99f5",
   "metadata": {},
   "outputs": [
    {
     "name": "stdout",
     "output_type": "stream",
     "text": [
      " *** ***\n",
      " * * * *\n",
      " *  *  *\n",
      " *     *\n"
     ]
    }
   ],
   "source": [
    "a=1\n",
    "while a<=4:\n",
    "    if a==1:\n",
    "        print(\" *** ***\")\n",
    "    if a==2:\n",
    "        print(\" * * * *\")\n",
    "    if a==3:\n",
    "        print(\" *  *  *\")\n",
    "    if a==4:\n",
    "        print(\" *     *\") \n",
    "    if a==5:\n",
    "        print(\" *     *\")  \n",
    "    a=a+1"
   ]
  },
  {
   "cell_type": "code",
   "execution_count": 2,
   "id": "3bade836",
   "metadata": {},
   "outputs": [
    {
     "name": "stdout",
     "output_type": "stream",
     "text": [
      "******\n",
      " *   *\n",
      " *   *\n"
     ]
    }
   ],
   "source": [
    "a=1\n",
    "while a<=4:\n",
    "    if a==1:\n",
    "        print(\"******\")\n",
    "    if a==2:\n",
    "        print(\" *   *\")\n",
    "    if a==3:\n",
    "        print(\" *   *\")\n",
    "    a=a+1"
   ]
  },
  {
   "cell_type": "code",
   "execution_count": 49,
   "id": "32489804",
   "metadata": {},
   "outputs": [
    {
     "name": "stdout",
     "output_type": "stream",
     "text": [
      " *** \n",
      "*   *\n",
      "*   *\n",
      "*   *\n",
      " *** \n"
     ]
    }
   ],
   "source": [
    "a=1\n",
    "while a<=5:\n",
    "    if a==1:\n",
    "        print(\" *** \")\n",
    "    if a==2:\n",
    "        print(\"*   *\")\n",
    "    if a==3:\n",
    "        print(\"*   *\")\n",
    "    if a==4:\n",
    "        print(\"*   *\")\n",
    "    if a==5:\n",
    "        print(\" *** \")       \n",
    "    a=a+1"
   ]
  },
  {
   "cell_type": "code",
   "execution_count": 50,
   "id": "624f3a80",
   "metadata": {},
   "outputs": [
    {
     "name": "stdout",
     "output_type": "stream",
     "text": [
      "*****\n",
      "*   *\n",
      "*   *\n",
      "*****\n",
      "*   \n",
      "*   \n"
     ]
    }
   ],
   "source": [
    "a=1\n",
    "while a<=6:\n",
    "    if a==1:\n",
    "        print(\"*****\")\n",
    "    if a==2:\n",
    "        print(\"*   *\")\n",
    "    if a==3:\n",
    "        print(\"*   *\")\n",
    "    if a==4:\n",
    "        print(\"*****\")\n",
    "    if a==5:\n",
    "        print(\"*   \")\n",
    "    if a==6:\n",
    "        print(\"*   \")       \n",
    "    a=a+1"
   ]
  },
  {
   "cell_type": "code",
   "execution_count": 62,
   "id": "c6c33d4f",
   "metadata": {},
   "outputs": [
    {
     "name": "stdout",
     "output_type": "stream",
     "text": [
      "*****\n",
      "*   *\n",
      "*   *\n",
      "*****\n",
      "    *   \n",
      "    *  *\n",
      "    * *\n",
      "    *\n"
     ]
    }
   ],
   "source": [
    "a=1\n",
    "while a<=8:\n",
    "    if a==1:\n",
    "        print(\"*****\")\n",
    "    if a==2:\n",
    "        print(\"*   *\")\n",
    "    if a==3:\n",
    "        print(\"*   *\")\n",
    "    if a==4:\n",
    "        print(\"*****\")\n",
    "    if a==5:\n",
    "        print(\"    *   \")\n",
    "    if a==6:\n",
    "        print(\"    *  *\")\n",
    "    if a==7:\n",
    "        print(\"    * *\") \n",
    "    if a==8:\n",
    "        print(\"    *\")  \n",
    "    a=a+1"
   ]
  },
  {
   "cell_type": "code",
   "execution_count": 63,
   "id": "3e00bc93",
   "metadata": {},
   "outputs": [
    {
     "name": "stdout",
     "output_type": "stream",
     "text": [
      "*   *\n",
      " * * \n",
      "  *  \n",
      " * * \n",
      "  *  \n"
     ]
    }
   ],
   "source": [
    "a=1\n",
    "while a<=8:\n",
    "    if a==1:\n",
    "        print(\"*   *\")\n",
    "    if a==2:\n",
    "        print(\" * * \")\n",
    "    if a==3:\n",
    "        print(\"  *  \")\n",
    "    if a==4:\n",
    "        print(\" * * \")\n",
    "    if a==5:\n",
    "        print(\"  *  \")\n",
    "    a=a+1"
   ]
  },
  {
   "cell_type": "code",
   "execution_count": 64,
   "id": "f59cae01",
   "metadata": {},
   "outputs": [
    {
     "name": "stdout",
     "output_type": "stream",
     "text": [
      "*****\n",
      "*    \n",
      "*    \n",
      "*****\n",
      "    *\n",
      "    *\n",
      "*****\n"
     ]
    }
   ],
   "source": [
    "a=1\n",
    "while a<=7:\n",
    "    if a==1:\n",
    "        print(\"*****\")\n",
    "    if a==2:\n",
    "        print(\"*    \")\n",
    "    if a==3:\n",
    "        print(\"*    \")\n",
    "    if a==4:\n",
    "        print(\"*****\")\n",
    "    if a==5:\n",
    "        print(\"    *\")\n",
    "    if a==6:\n",
    "        print(\"    *\")\n",
    "    if a==7:\n",
    "        print(\"*****\")\n",
    "    a=a+1"
   ]
  },
  {
   "cell_type": "code",
   "execution_count": 66,
   "id": "69906e42",
   "metadata": {},
   "outputs": [
    {
     "name": "stdout",
     "output_type": "stream",
     "text": [
      "  *  \n",
      "  *  \n",
      "  *  \n",
      "******\n",
      "  *  \n",
      "  *  \n",
      "  ****\n"
     ]
    }
   ],
   "source": [
    "a=1\n",
    "while a<=7:\n",
    "    if a==1:\n",
    "        print(\"  *  \")\n",
    "    if a==2:\n",
    "        print(\"  *  \")\n",
    "    if a==3:\n",
    "        print(\"  *  \")\n",
    "    if a==4:\n",
    "        print(\"******\")\n",
    "    if a==5:\n",
    "        print(\"  *  \")\n",
    "    if a==6:\n",
    "        print(\"  *  \")\n",
    "    if a==7:\n",
    "        print(\"  ****\")\n",
    "    a=a+1"
   ]
  },
  {
   "cell_type": "code",
   "execution_count": 71,
   "id": "860a970e",
   "metadata": {},
   "outputs": [
    {
     "name": "stdout",
     "output_type": "stream",
     "text": [
      "*   *\n",
      "*   *\n",
      "*   *\n",
      " **** \n",
      "     *\n"
     ]
    }
   ],
   "source": [
    "a=1\n",
    "while a<=5:\n",
    "    if a==1:\n",
    "        print(\"*   *\")\n",
    "    if a==2:\n",
    "        print(\"*   *\")\n",
    "    if a==3:\n",
    "        print(\"*   *\")\n",
    "    if a==4:\n",
    "        print(\" **** \")\n",
    "    if a==5:\n",
    "        print(\"     *\")\n",
    "    a=a+1"
   ]
  },
  {
   "cell_type": "code",
   "execution_count": 72,
   "id": "e095e52f",
   "metadata": {},
   "outputs": [
    {
     "name": "stdout",
     "output_type": "stream",
     "text": [
      "*     *\n",
      " *   * \n",
      "  * * \n",
      "   *   \n"
     ]
    }
   ],
   "source": [
    "a=1\n",
    "while a<=4:\n",
    "    if a==1:\n",
    "        print(\"*     *\")\n",
    "    if a==2:\n",
    "        print(\" *   * \")\n",
    "    if a==3:\n",
    "        print(\"  * * \")\n",
    "    if a==4:\n",
    "        print(\"   *   \")\n",
    "    a=a+1"
   ]
  },
  {
   "cell_type": "code",
   "execution_count": 73,
   "id": "7ca2752c",
   "metadata": {},
   "outputs": [
    {
     "name": "stdout",
     "output_type": "stream",
     "text": [
      "*     *     *\n",
      " *   * *   *\n",
      "  * *   * *\n",
      "   *     *\n"
     ]
    }
   ],
   "source": [
    "a=1\n",
    "while a<=4:\n",
    "    if a==1:\n",
    "        print(\"*     *     *\")\n",
    "    if a==2:\n",
    "        print(\" *   * *   *\")\n",
    "    if a==3:\n",
    "        print(\"  * *   * *\")\n",
    "    if a==4:\n",
    "        print(\"   *     *\")\n",
    "    a=a+1 "
   ]
  },
  {
   "cell_type": "code",
   "execution_count": 79,
   "id": "0ca95b9d",
   "metadata": {},
   "outputs": [
    {
     "name": "stdout",
     "output_type": "stream",
     "text": [
      "* *   * *\n",
      "   * * \n",
      "    *   \n",
      "    * \n",
      "   * * \n",
      "* *   * *\n"
     ]
    }
   ],
   "source": [
    "a=1\n",
    "while a<=6:\n",
    "    if a==1:\n",
    "        print(\"* *   * *\")\n",
    "    if a==2:\n",
    "        print(\"   * * \")\n",
    "    if a==3:\n",
    "        print(\"    *   \")\n",
    "    if a==4:\n",
    "        print(\"    * \")\n",
    "    if a==5:\n",
    "        print(\"   * * \")\n",
    "    if a==6:\n",
    "        print(\"* *   * *\")\n",
    "    a=a+1"
   ]
  },
  {
   "cell_type": "code",
   "execution_count": 83,
   "id": "4fcef159",
   "metadata": {},
   "outputs": [
    {
     "name": "stdout",
     "output_type": "stream",
     "text": [
      "*   *\n",
      "*   *\n",
      "*****\n",
      "    *\n",
      "* * *\n"
     ]
    }
   ],
   "source": [
    "a=1\n",
    "while a<=5:\n",
    "    if a==1:\n",
    "        print(\"*   *\")\n",
    "    if a==2:\n",
    "        print(\"*   *\")\n",
    "    if a==3:\n",
    "        print(\"*****\")\n",
    "    if a==4:\n",
    "        print(\"    *\")\n",
    "    if a==5:\n",
    "        print(\"* * *\")\n",
    "    a=a+1"
   ]
  },
  {
   "cell_type": "code",
   "execution_count": 6,
   "id": "a271ad6a",
   "metadata": {},
   "outputs": [
    {
     "name": "stdout",
     "output_type": "stream",
     "text": [
      "*****\n",
      "   * \n",
      "  *  \n",
      " *   \n",
      "*****\n"
     ]
    }
   ],
   "source": [
    "a=1\n",
    "while a<=5:\n",
    "    if a==1:\n",
    "        print(\"*****\")\n",
    "    if a==2:\n",
    "        print(\"   * \")\n",
    "    if a==3:\n",
    "        print(\"  *  \")\n",
    "    if a==4:\n",
    "        print(\" *   \")\n",
    "    if a==5:\n",
    "        print(\"*****\")     \n",
    "    a=a+1"
   ]
  },
  {
   "cell_type": "code",
   "execution_count": null,
   "id": "3b4f40be",
   "metadata": {},
   "outputs": [],
   "source": []
  }
 ],
 "metadata": {
  "kernelspec": {
   "display_name": "Python 3 (ipykernel)",
   "language": "python",
   "name": "python3"
  },
  "language_info": {
   "codemirror_mode": {
    "name": "ipython",
    "version": 3
   },
   "file_extension": ".py",
   "mimetype": "text/x-python",
   "name": "python",
   "nbconvert_exporter": "python",
   "pygments_lexer": "ipython3",
   "version": "3.9.13"
  }
 },
 "nbformat": 4,
 "nbformat_minor": 5
}
